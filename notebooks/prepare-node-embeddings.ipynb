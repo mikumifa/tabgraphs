{
 "cells": [
  {
   "cell_type": "markdown",
   "metadata": {},
   "source": [
    "# Import Packages"
   ]
  },
  {
   "cell_type": "code",
   "execution_count": 1,
   "metadata": {},
   "outputs": [],
   "source": [
    "import os\n",
    "import yaml\n",
    "\n",
    "import numpy as np\n",
    "import pandas as pd\n",
    "\n",
    "import torch\n",
    "import torch.optim as optim\n",
    "import torch.utils.data as data\n",
    "\n",
    "import dgl\n",
    "import dgl.nn as dglnn\n",
    "import dgl.function as fn\n",
    "import dgl.nn.functional as F\n",
    "\n",
    "from tqdm import tqdm"
   ]
  },
  {
   "cell_type": "code",
   "execution_count": 2,
   "metadata": {},
   "outputs": [],
   "source": [
    "torch.set_num_threads(8)"
   ]
  },
  {
   "cell_type": "code",
   "execution_count": 3,
   "metadata": {},
   "outputs": [],
   "source": [
    "data_root = '../datasets'"
   ]
  },
  {
   "cell_type": "code",
   "execution_count": 4,
   "metadata": {},
   "outputs": [],
   "source": [
    "def save_config(data, config_path):\n",
    "    with open(config_path, 'w') as f:\n",
    "        data = yaml.dump(data, f)\n",
    "\n",
    "def load_config(config_path):\n",
    "    with open(config_path, 'r') as f:\n",
    "        data = yaml.safe_load(f)\n",
    "    \n",
    "    return data"
   ]
  },
  {
   "cell_type": "markdown",
   "metadata": {},
   "source": [
    "# Functions for Node Embeddings"
   ]
  },
  {
   "cell_type": "code",
   "execution_count": 5,
   "metadata": {},
   "outputs": [],
   "source": [
    "def get_node_embeddings(graph, embedding_dim, device):\n",
    "    model = dglnn.DeepWalk(\n",
    "        g=graph.cpu(),\n",
    "        emb_dim=embedding_dim, \n",
    "        walk_length=40, \n",
    "        window_size=5, \n",
    "        negative_size=1, \n",
    "        fast_neg=False, \n",
    "        sparse=False, \n",
    "    )\n",
    "\n",
    "    batch_size = 256\n",
    "    num_workers = 8\n",
    "    dataloader = data.DataLoader(\n",
    "        dataset=torch.arange(graph.num_nodes()), \n",
    "        batch_size=batch_size,\n",
    "        num_workers=num_workers,\n",
    "        shuffle=True, \n",
    "        collate_fn=model.sample,\n",
    "        drop_last=True,\n",
    "    )\n",
    "    learning_rate = 1e-3\n",
    "    optimizer = optim.Adam(model.parameters(), lr=learning_rate)\n",
    "    \n",
    "    model.train()\n",
    "    model = model.to(device)\n",
    "\n",
    "    num_epochs = 16\n",
    "    for epoch in range(1, num_epochs + 1):\n",
    "        pbar = tqdm(dataloader, leave=False)\n",
    "        pbar.set_description(f'epoch = {epoch}')\n",
    "        for batch in pbar:\n",
    "            batch = batch.to(device)\n",
    "            loss = model(batch)\n",
    "            loss.backward()\n",
    "            optimizer.step()\n",
    "            optimizer.zero_grad()\n",
    "            pbar.set_postfix_str(f'loss = {loss.item():.4f}')\n",
    "\n",
    "    node_embeds = model.node_embed.weight.detach()\n",
    "    return node_embeds"
   ]
  },
  {
   "cell_type": "markdown",
   "metadata": {},
   "source": [
    "# Prepare Graph Augmentation"
   ]
  },
  {
   "cell_type": "code",
   "execution_count": 6,
   "metadata": {},
   "outputs": [],
   "source": [
    "dataset_names = [\n",
    "    # 'tolokers-tab',\n",
    "    # 'questions-tab',\n",
    "    # 'city-reviews',\n",
    "    # 'browser-games',\n",
    "    # 'hm-categories',\n",
    "    # 'web-fraud',\n",
    "    # 'city-roads-M',\n",
    "    # 'city-roads-L',\n",
    "    # 'avazu-devices',\n",
    "    # 'hm-prices',\n",
    "    # 'web-traffic'\n",
    "]"
   ]
  },
  {
   "cell_type": "code",
   "execution_count": 7,
   "metadata": {},
   "outputs": [],
   "source": [
    "dataset_name_to_embedding_dim = {\n",
    "    'tolokers-tab': 64,\n",
    "    'questions-tab': 64,\n",
    "    'city-reviews': 128,\n",
    "    'browser-games': 128,\n",
    "    'hm-categories': 96,\n",
    "    'web-fraud': 256,\n",
    "    'city-roads-M': 64,\n",
    "    'city-roads-L': 128,\n",
    "    'avazu-devices': 96,\n",
    "    'hm-prices': 96,\n",
    "    'web-traffic': 256,\n",
    "}"
   ]
  },
  {
   "cell_type": "code",
   "execution_count": 8,
   "metadata": {},
   "outputs": [],
   "source": [
    "gpu_index = 1\n",
    "device = torch.device(f'cuda:{gpu_index}')"
   ]
  },
  {
   "cell_type": "code",
   "execution_count": null,
   "metadata": {},
   "outputs": [],
   "source": [
    "for dataset_name in dataset_names:\n",
    "    print(dataset_name)\n",
    "    dataset_path = f\"{data_root}/{dataset_name}\"\n",
    "\n",
    "    edge_list = pd.read_csv(f\"{dataset_path}/edgelist.csv\").values\n",
    "    graph = dgl.graph(tuple(torch.tensor(indices) for indices in edge_list.T))\n",
    "    graph = dgl.to_bidirected(graph)\n",
    "\n",
    "    embedding_dim = dataset_name_to_embedding_dim[dataset_name]\n",
    "    node_embeds = get_node_embeddings(graph, embedding_dim, device)\n",
    "    \n",
    "    node_embeddings_path = f'{dataset_path}/node_embeddings.npz'\n",
    "    np.savez_compressed(node_embeddings_path, node_embeds=node_embeds.cpu().numpy())\n",
    "\n",
    "    node_embeddings_info = {'embedding_dim': embedding_dim}\n",
    "    node_embeddings_info_path = f'{dataset_path}/node_embeddings_info.yaml'\n",
    "    save_config(node_embeddings_info, node_embeddings_info_path)"
   ]
  },
  {
   "cell_type": "code",
   "execution_count": null,
   "metadata": {},
   "outputs": [],
   "source": []
  }
 ],
 "metadata": {
  "kernelspec": {
   "display_name": "Python 3 (ipykernel)",
   "language": "python",
   "name": "python3"
  },
  "language_info": {
   "codemirror_mode": {
    "name": "ipython",
    "version": 3
   },
   "file_extension": ".py",
   "mimetype": "text/x-python",
   "name": "python",
   "nbconvert_exporter": "python",
   "pygments_lexer": "ipython3",
   "version": "3.8.17"
  }
 },
 "nbformat": 4,
 "nbformat_minor": 2
}
